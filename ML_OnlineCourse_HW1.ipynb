{
  "nbformat": 4,
  "nbformat_minor": 0,
  "metadata": {
    "colab": {
      "name": "ML_OnlineCourse_HW1.ipynb",
      "provenance": [],
      "collapsed_sections": []
    },
    "kernelspec": {
      "name": "python3",
      "display_name": "Python 3"
    },
    "language_info": {
      "name": "python"
    },
    "accelerator": "GPU"
  },
  "cells": [
    {
      "cell_type": "markdown",
      "metadata": {
        "id": "Bn9_JPfxJD21"
      },
      "source": [
        "# Download Data"
      ]
    },
    {
      "cell_type": "code",
      "metadata": {
        "colab": {
          "base_uri": "https://localhost:8080/"
        },
        "id": "L6c57VU_ZQxR",
        "outputId": "3f493d3d-b20a-44eb-cd1d-117586c68e55"
      },
      "source": [
        "gpu_info = !nvidia-smi\n",
        "gpu_info = '\\n'.join(gpu_info)\n",
        "if gpu_info.find('failed') >= 0:\n",
        "  print('Select the Runtime > \"Change runtime type\" menu to enable a GPU accelerator, ')\n",
        "  print('and then re-execute this cell.')\n",
        "else:\n",
        "  print(gpu_info)"
      ],
      "execution_count": 2,
      "outputs": [
        {
          "output_type": "stream",
          "text": [
            "Thu Jul 29 03:21:27 2021       \n",
            "+-----------------------------------------------------------------------------+\n",
            "| NVIDIA-SMI 470.42.01    Driver Version: 460.32.03    CUDA Version: 11.2     |\n",
            "|-------------------------------+----------------------+----------------------+\n",
            "| GPU  Name        Persistence-M| Bus-Id        Disp.A | Volatile Uncorr. ECC |\n",
            "| Fan  Temp  Perf  Pwr:Usage/Cap|         Memory-Usage | GPU-Util  Compute M. |\n",
            "|                               |                      |               MIG M. |\n",
            "|===============================+======================+======================|\n",
            "|   0  Tesla P100-PCIE...  Off  | 00000000:00:04.0 Off |                    0 |\n",
            "| N/A   34C    P0    27W / 250W |      0MiB / 16280MiB |      0%      Default |\n",
            "|                               |                      |                  N/A |\n",
            "+-------------------------------+----------------------+----------------------+\n",
            "                                                                               \n",
            "+-----------------------------------------------------------------------------+\n",
            "| Processes:                                                                  |\n",
            "|  GPU   GI   CI        PID   Type   Process name                  GPU Memory |\n",
            "|        ID   ID                                                   Usage      |\n",
            "|=============================================================================|\n",
            "|  No running processes found                                                 |\n",
            "+-----------------------------------------------------------------------------+\n"
          ],
          "name": "stdout"
        }
      ]
    },
    {
      "cell_type": "code",
      "metadata": {
        "id": "tz7uwHkyeEY-",
        "colab": {
          "base_uri": "https://localhost:8080/"
        },
        "outputId": "c3de2131-3ad1-4720-8f5a-50cea6a822c4"
      },
      "source": [
        "tr_path = \"covid.train.csv\"\n",
        "tt_path = \"covid.test.csv\"\n",
        "\n",
        "!gdown --id '19CCyCgJrUxtvgZF53vnctJiOJ23T5mqF' --output covid.train.csv\n",
        "!gdown --id '1CE240jLm2npU-tdz81-oVKEF3T2yfT1O' --output covid.test.csv"
      ],
      "execution_count": 3,
      "outputs": [
        {
          "output_type": "stream",
          "text": [
            "Downloading...\n",
            "From: https://drive.google.com/uc?id=19CCyCgJrUxtvgZF53vnctJiOJ23T5mqF\n",
            "To: /content/covid.train.csv\n",
            "100% 2.00M/2.00M [00:00<00:00, 128MB/s]\n",
            "Downloading...\n",
            "From: https://drive.google.com/uc?id=1CE240jLm2npU-tdz81-oVKEF3T2yfT1O\n",
            "To: /content/covid.test.csv\n",
            "100% 651k/651k [00:00<00:00, 42.1MB/s]\n"
          ],
          "name": "stdout"
        }
      ]
    },
    {
      "cell_type": "markdown",
      "metadata": {
        "id": "MIgYZ-QTJI0e"
      },
      "source": [
        "# Import Some Package"
      ]
    },
    {
      "cell_type": "code",
      "metadata": {
        "id": "SQzmj8uHJDMV"
      },
      "source": [
        "#Pytorch\n",
        "import torch\n",
        "import torch.nn as nn\n",
        "from torch.utils.data import Dataset, DataLoader\n",
        "\n",
        "#Data Preprocessing\n",
        "import numpy as np\n",
        "import csv\n",
        "import os\n",
        "\n",
        "#For plotting\n",
        "import matplotlib.pyplot as plt\n",
        "from matplotlib.pyplot import figure\n",
        "\n",
        "#myseed = 42069\n",
        "myseed = 666\n",
        "\n",
        "torch.backends.cudnn.deterministic = True\n",
        "torch.backends.cudnn.benchmark = False\n",
        "np.random.seed(myseed)\n",
        "torch.manual_seed(myseed)\n",
        "if torch.cuda.is_available():\n",
        "  torch.cuda.manual_seed_all(myseed)"
      ],
      "execution_count": 4,
      "outputs": []
    },
    {
      "cell_type": "markdown",
      "metadata": {
        "id": "SJ-lLJIAKFc9"
      },
      "source": [
        "# Some Utilities"
      ]
    },
    {
      "cell_type": "code",
      "metadata": {
        "id": "v6OxNI5ZKFv0"
      },
      "source": [
        "def get_device():\n",
        "    ''' Get device (if GPU is available, use GPU) '''\n",
        "    return 'cuda' if torch.cuda.is_available() else 'cpu'\n",
        "\n",
        "def plot_learning_curve(loss_record, title=''):\n",
        "    ''' Plot learning curve of your DNN (train & dev loss) '''\n",
        "    total_steps = len(loss_record['train'])\n",
        "    x_1 = range(total_steps)\n",
        "    x_2 = x_1[::len(loss_record['train']) // len(loss_record['dev'])]\n",
        "    figure(figsize=(6, 4))\n",
        "    plt.plot(x_1, loss_record['train'], c='tab:red', label='train')\n",
        "    plt.plot(x_2, loss_record['dev'], c='tab:cyan', label='dev')\n",
        "    plt.ylim(0.0, 5.)\n",
        "    plt.xlabel('Training steps')\n",
        "    plt.ylabel('MSE loss')\n",
        "    plt.title('Learning curve of {}'.format(title))\n",
        "    plt.legend()\n",
        "    plt.show()\n",
        "\n",
        "\n",
        "def plot_pred(dv_set, model, device, lim=35., preds=None, targets=None):\n",
        "    ''' Plot prediction of your DNN '''\n",
        "    if preds is None or targets is None:\n",
        "        model.eval()\n",
        "        preds, targets = [], []\n",
        "        for x, y in dv_set:\n",
        "            x, y = x.to(device), y.to(device)\n",
        "            with torch.no_grad():\n",
        "                pred = model(x)\n",
        "                preds.append(pred.detach().cpu())\n",
        "                targets.append(y.detach().cpu())\n",
        "        preds = torch.cat(preds, dim=0).numpy()\n",
        "        targets = torch.cat(targets, dim=0).numpy()\n",
        "\n",
        "    figure(figsize=(5, 5))\n",
        "    plt.scatter(targets, preds, c='r', alpha=0.5)\n",
        "    plt.plot([-0.2, lim], [-0.2, lim], c='b')\n",
        "    plt.xlim(-0.2, lim)\n",
        "    plt.ylim(-0.2, lim)\n",
        "    plt.xlabel('ground truth value')\n",
        "    plt.ylabel('predicted value')\n",
        "    plt.title('Ground Truth v.s. Prediction')\n",
        "    plt.show()"
      ],
      "execution_count": 5,
      "outputs": []
    },
    {
      "cell_type": "markdown",
      "metadata": {
        "id": "swpwsaH7RfNx"
      },
      "source": [
        "# Preprocess"
      ]
    },
    {
      "cell_type": "markdown",
      "metadata": {
        "id": "bHZJFTqgKO9k"
      },
      "source": [
        "**Dataset**"
      ]
    },
    {
      "cell_type": "code",
      "metadata": {
        "id": "OwbJ0mrNKhBo"
      },
      "source": [
        "#import pandas as pd\n",
        "\n",
        "#df = pd.read_csv('covid.train.csv').iloc[:,1:]\n",
        "#print(df.columns)\n",
        "#print(df.columns[df.corr().iloc[:,-1] > 0.5])\n",
        "\n",
        "\n",
        "class COVID19Dataset(Dataset):\n",
        "  #Dataset for loading and preprocessing the COVID19 dataset\n",
        "  def __init__(self, path, mode = 'train', target_only = False):\n",
        "    self.mode = mode\n",
        "\n",
        "    #Read data into numpy arrays\n",
        "    with open(path, 'r') as fp:\n",
        "      data = list(csv.reader(fp))\n",
        "      data = np.array(data[1:])[:, 1:].astype(float)\n",
        "    \n",
        "    if not target_only:\n",
        "      feats = list(range(93))\n",
        "    else:\n",
        "      feats = [40, 41, 42, 43, 56, 57, 58, 59, 60, 61, 74, 75, 76, 77, 78, 79, 91, 92]\n",
        "      #feats = [40, 41, 42, 43, 47, 51, 56, 57, 58, 59, 60, 61, 65, 69, 74, 75, 76, 77, 78, 79, 83, 87, 92]\n",
        "    if mode == 'test':\n",
        "      data = data[:, feats]\n",
        "      self.data = torch.FloatTensor(data)\n",
        "    else:\n",
        "      target = data[:, -1]\n",
        "      data = data[:, feats]\n",
        "\n",
        "      if mode == 'train':\n",
        "        indices = [i for i in range(len(data)) if i % 10 != 0]\n",
        "      elif mode == 'dev':\n",
        "        indices = [i for i in range(len(data)) if i % 10 == 0]\n",
        "      \n",
        "      self.data = torch.FloatTensor(data[indices])\n",
        "      self.target = torch.FloatTensor(target[indices])\n",
        "\n",
        "    #Normalize features (you may remove this part to see what will happen)\n",
        "    #Normal distribution\n",
        "    self.data[:, 40:] = \\\n",
        "      (self.data[:, 40:] - self.data[:, 40:].mean(dim = 0, keepdim = True))\\\n",
        "      / self.data[:, 40:].std(dim = 0, keepdim = True) \n",
        "\n",
        "    self.dim = self.data.shape[1]\n",
        "    print('Finished reading the {} set of COVID19 Dataset ({} samples found, each dim = {})'.format(mode, len(self.data), self.dim))\n",
        "  def __getitem__(self, index):\n",
        "    #Returns one sample at a time\n",
        "    if self.mode in ['train', 'dev']:\n",
        "      return self.data[index], self.target[index]\n",
        "    else:\n",
        "      return self.data[index]\n",
        "  def __len__(self):\n",
        "    return len(self.data)\n",
        "\n"
      ],
      "execution_count": 6,
      "outputs": []
    },
    {
      "cell_type": "markdown",
      "metadata": {
        "id": "dL8tXyr9POds"
      },
      "source": [
        "**DataLoader**"
      ]
    },
    {
      "cell_type": "code",
      "metadata": {
        "id": "jxhUTOY_PQ8U"
      },
      "source": [
        "def prep_dataloader(path, mode, batch_size, n_jobs = 0, target_only = False):\n",
        "  #Generates a dataset, then is put into a dataloader\n",
        "  dataset = COVID19Dataset(path, mode = mode, target_only = target_only)\n",
        "  dataloader = DataLoader(\n",
        "      dataset,batch_size,shuffle = (mode == 'train'), drop_last = False,\n",
        "      num_workers = n_jobs, pin_memory = True\n",
        "  )\n",
        "  return dataloader"
      ],
      "execution_count": 7,
      "outputs": []
    },
    {
      "cell_type": "markdown",
      "metadata": {
        "id": "qyaamh9UQHyV"
      },
      "source": [
        "**Deep Neural Network**"
      ]
    },
    {
      "cell_type": "code",
      "metadata": {
        "id": "zq6akoVZQLdU"
      },
      "source": [
        "class NeuralNet(nn.Module):\n",
        "  #a simple fully-connected deep neural network\n",
        "  def __init__(self, input_dim):\n",
        "    super(NeuralNet, self).__init__()\n",
        "\n",
        "    self.net = nn.Sequential(\n",
        "        nn.Linear(input_dim, 16),\n",
        "        nn.ReLU(),\n",
        "        nn.Linear(16, 64),\n",
        "        nn.ReLU(),\n",
        "        nn.Linear(64, 16),\n",
        "        nn.ReLU(),\n",
        "        nn.Linear(16, 1)\n",
        "    )\n",
        "\n",
        "    self.criterion = nn.MSELoss(reduction = 'mean')\n",
        "  def forward(self, x):\n",
        "    return self.net(x).squeeze(1)\n",
        "  def cal_loss(self, pred, target):\n",
        "    L1_norm = 0.001 * sum(p.abs().sum() for p in self.net.parameters())\n",
        "    L2_norm = 0\n",
        "    for param in model.parameters():\n",
        "      L2_norm += torch.sum(torch.square(param))\n",
        "    \n",
        "    return self.criterion(pred, target) + 0.00005 * L2_norm"
      ],
      "execution_count": 8,
      "outputs": []
    },
    {
      "cell_type": "markdown",
      "metadata": {
        "id": "uy_Jf0v_RxmY"
      },
      "source": [
        "# Train/Dev/Test"
      ]
    },
    {
      "cell_type": "markdown",
      "metadata": {
        "id": "bBufGvx0R1gw"
      },
      "source": [
        "**Training**"
      ]
    },
    {
      "cell_type": "code",
      "metadata": {
        "id": "LtXX8n-TRDyU"
      },
      "source": [
        "def train(tr_set, dv_set, model, config, device):\n",
        "  #DNN training\n",
        "  n_epochs = config['n_epochs']\n",
        "\n",
        "  optimizer = getattr(torch.optim, config['optimizer'])(\n",
        "      model.parameters(), **config['optim_hparas'])\n",
        "  \n",
        "  #Learning rate scheduler\n",
        "  lambdal = lambda epoch: config['lambda'] ** epoch\n",
        "  scheduler = torch.optim.lr_scheduler.LambdaLR(optimizer, lr_lambda = lambdal)\n",
        "\n",
        "  min_mse = 1000\n",
        "  loss_record = {'train': [], 'dev': []}\n",
        "  early_stop_cnt = 0\n",
        "  epoch = 0\n",
        "  while epoch < n_epochs:\n",
        "    model.train()\n",
        "    for x, y in tr_set:\n",
        "      optimizer.zero_grad()\n",
        "      x, y = x.to(device),y.to(device)\n",
        "      pred = model(x)\n",
        "      mse_loss = model.cal_loss(pred, y)\n",
        "      mse_loss.backward()\n",
        "      optimizer.step()\n",
        "      loss_record['train'].append(mse_loss.detach().cpu().item())\n",
        "    \n",
        "    #schedule learning rate\n",
        "    scheduler.step()\n",
        "    dev_mse = dev(dv_set, model, device)\n",
        "    if dev_mse < min_mse:\n",
        "      min_mse = dev_mse\n",
        "      print('Saving model (epochs = {:4d}, loss = {:.4f})'.format(epoch + 1,min_mse))\n",
        "      torch.save(model.state_dict(), config['save_path'])\n",
        "      early_stop_cnt = 0\n",
        "    else:\n",
        "      early_stop_cnt += 1\n",
        "    epoch += 1\n",
        "    loss_record['dev'].append(dev_mse)\n",
        "    if early_stop_cnt > config['early_stop']:\n",
        "      break\n",
        "  print('Finish training after {} epochs'.format(epoch))\n",
        "  return min_mse, loss_record\n"
      ],
      "execution_count": 9,
      "outputs": []
    },
    {
      "cell_type": "markdown",
      "metadata": {
        "id": "vh2PZdW6UBwl"
      },
      "source": [
        "**Validation**"
      ]
    },
    {
      "cell_type": "code",
      "metadata": {
        "id": "-pMQwLmEUD0C"
      },
      "source": [
        "def dev(dv_set, model, device):\n",
        "  model.eval()\n",
        "  total_loss = 0\n",
        "  for x, y in dv_set:\n",
        "    x, y = x.to(device), y.to(device)\n",
        "    with torch.no_grad():\n",
        "      pred = model(x)\n",
        "      mse_loss = model.cal_loss(pred, y)\n",
        "    total_loss += mse_loss.detach().cpu().item() * len(x)\n",
        "  total_loss = total_loss / len(dv_set.dataset)\n",
        "  return total_loss"
      ],
      "execution_count": 10,
      "outputs": []
    },
    {
      "cell_type": "markdown",
      "metadata": {
        "id": "VbMwYn65UjA9"
      },
      "source": [
        "**Testing**"
      ]
    },
    {
      "cell_type": "code",
      "metadata": {
        "id": "TMO0-RU8Uk7-"
      },
      "source": [
        "def test(tt_set, model, device):\n",
        "  model.eval()\n",
        "  preds = []\n",
        "  for x in tt_set:\n",
        "    x = x.to(device)\n",
        "    with torch.no_grad():\n",
        "      pred = model(x)\n",
        "      preds.append(pred.detach().cpu())\n",
        "  preds = torch.cat(preds, dim = 0).numpy()\n",
        "  return preds"
      ],
      "execution_count": 11,
      "outputs": []
    },
    {
      "cell_type": "markdown",
      "metadata": {
        "id": "xfmGewj1U8U_"
      },
      "source": [
        "**Setup Hyper-parameters**"
      ]
    },
    {
      "cell_type": "code",
      "metadata": {
        "id": "QoXwIPcWVAk_"
      },
      "source": [
        "device = get_device()\n",
        "os.makedirs('models', exist_ok = True)\n",
        "target_only = True\n",
        "\n",
        "config = {\n",
        "    'n_epochs': 3000,\n",
        "    'batch_size': 64,\n",
        "    'optimizer': 'Adam',\n",
        "    'optim_hparas': {\n",
        "        'lr': 0.01,\n",
        "        #'weight_decay': 0.005\n",
        "        #'momentum': 0.3\n",
        "    },\n",
        "    'lambda': 0.996,\n",
        "    'early_stop': 200,\n",
        "    'save_path': 'models/model.pth'\n",
        "}"
      ],
      "execution_count": 17,
      "outputs": []
    },
    {
      "cell_type": "markdown",
      "metadata": {
        "id": "4tzNGGPNVpAs"
      },
      "source": [
        "**Load data and model**"
      ]
    },
    {
      "cell_type": "code",
      "metadata": {
        "colab": {
          "base_uri": "https://localhost:8080/"
        },
        "id": "Jb11tYO9VrN0",
        "outputId": "bfd9d7f8-fd20-49dc-d5d2-7ae881bc48da"
      },
      "source": [
        "tr_set = prep_dataloader(tr_path, 'train', config['batch_size'], target_only=target_only)\n",
        "dv_set = prep_dataloader(tr_path, 'dev', config['batch_size'], target_only=target_only)\n",
        "tt_set = prep_dataloader(tt_path, 'test', config['batch_size'], target_only=target_only)"
      ],
      "execution_count": 18,
      "outputs": [
        {
          "output_type": "stream",
          "text": [
            "Finished reading the train set of COVID19 Dataset (2430 samples found, each dim = 18)\n",
            "Finished reading the dev set of COVID19 Dataset (270 samples found, each dim = 18)\n",
            "Finished reading the test set of COVID19 Dataset (893 samples found, each dim = 18)\n"
          ],
          "name": "stdout"
        }
      ]
    },
    {
      "cell_type": "code",
      "metadata": {
        "id": "c9uI145lV3Ed"
      },
      "source": [
        "model = NeuralNet(tr_set.dataset.dim).to(device)"
      ],
      "execution_count": 19,
      "outputs": []
    },
    {
      "cell_type": "markdown",
      "metadata": {
        "id": "2t5Ch0_oV-Cf"
      },
      "source": [
        "**Start Training**"
      ]
    },
    {
      "cell_type": "code",
      "metadata": {
        "colab": {
          "base_uri": "https://localhost:8080/"
        },
        "id": "YBgf9f1yWAV2",
        "outputId": "1c2da202-69e4-487f-ba21-4b3c5c89f9ad"
      },
      "source": [
        "model_loss, model_loss_record = train(tr_set, dv_set, model, config, device)"
      ],
      "execution_count": 20,
      "outputs": [
        {
          "output_type": "stream",
          "text": [
            "Saving model (epochs =    1, loss = 8.5279)\n",
            "Saving model (epochs =    2, loss = 4.2632)\n",
            "Saving model (epochs =    3, loss = 2.5706)\n",
            "Saving model (epochs =    4, loss = 1.6102)\n",
            "Saving model (epochs =    6, loss = 1.5810)\n",
            "Saving model (epochs =    7, loss = 1.2834)\n",
            "Saving model (epochs =   13, loss = 1.1945)\n",
            "Saving model (epochs =   17, loss = 1.1251)\n",
            "Saving model (epochs =   19, loss = 1.0915)\n",
            "Saving model (epochs =   20, loss = 1.0788)\n",
            "Saving model (epochs =   25, loss = 1.0773)\n",
            "Saving model (epochs =   27, loss = 1.0278)\n",
            "Saving model (epochs =   31, loss = 1.0211)\n",
            "Saving model (epochs =   33, loss = 1.0036)\n",
            "Saving model (epochs =   34, loss = 0.9900)\n",
            "Saving model (epochs =   36, loss = 0.9721)\n",
            "Saving model (epochs =   38, loss = 0.9521)\n",
            "Saving model (epochs =   42, loss = 0.9129)\n",
            "Saving model (epochs =   49, loss = 0.9008)\n",
            "Saving model (epochs =   53, loss = 0.8935)\n",
            "Saving model (epochs =   54, loss = 0.8783)\n",
            "Saving model (epochs =   57, loss = 0.8694)\n",
            "Saving model (epochs =   69, loss = 0.8530)\n",
            "Saving model (epochs =   73, loss = 0.8491)\n",
            "Saving model (epochs =   74, loss = 0.8379)\n",
            "Saving model (epochs =   76, loss = 0.8334)\n",
            "Saving model (epochs =   91, loss = 0.8314)\n",
            "Saving model (epochs =   92, loss = 0.8309)\n",
            "Saving model (epochs =   98, loss = 0.8186)\n",
            "Saving model (epochs =  102, loss = 0.8145)\n",
            "Saving model (epochs =  114, loss = 0.8093)\n",
            "Saving model (epochs =  147, loss = 0.8046)\n",
            "Saving model (epochs =  154, loss = 0.8000)\n",
            "Saving model (epochs =  228, loss = 0.7987)\n",
            "Saving model (epochs =  229, loss = 0.7945)\n",
            "Saving model (epochs =  293, loss = 0.7942)\n",
            "Saving model (epochs =  308, loss = 0.7928)\n",
            "Saving model (epochs =  329, loss = 0.7897)\n",
            "Saving model (epochs =  357, loss = 0.7887)\n",
            "Finish training after 558 epochs\n"
          ],
          "name": "stdout"
        }
      ]
    },
    {
      "cell_type": "code",
      "metadata": {
        "colab": {
          "base_uri": "https://localhost:8080/",
          "height": 295
        },
        "id": "NOhpfeIYWIxw",
        "outputId": "9233a4bc-ad19-44d7-85f3-c5882be27513"
      },
      "source": [
        "plot_learning_curve(model_loss_record, title = 'deep model')"
      ],
      "execution_count": 21,
      "outputs": [
        {
          "output_type": "display_data",
          "data": {
            "image/png": "[encoded data removed]",
            "text/plain": [
              "<Figure size 432x288 with 1 Axes>"
            ]
          },
          "metadata": {
            "tags": [],
            "needs_background": "light"
          }
        }
      ]
    },
    {
      "cell_type": "code",
      "metadata": {
        "colab": {
          "base_uri": "https://localhost:8080/",
          "height": 350
        },
        "id": "XVw4gsCVWOa8",
        "outputId": "1d3c0ff5-78ce-4330-c7e1-9063e1a715e1"
      },
      "source": [
        "del model\n",
        "model = NeuralNet(tr_set.dataset.dim).to(device)\n",
        "ckpt = torch.load(config['save_path'], map_location = 'cpu')\n",
        "model.load_state_dict(ckpt)\n",
        "plot_pred(dv_set, model, device)"
      ],
      "execution_count": 22,
      "outputs": [
        {
          "output_type": "display_data",
          "data": {
            "image/png": "[encoded data removed]",
            "text/plain": [
              "<Figure size 360x360 with 1 Axes>"
            ]
          },
          "metadata": {
            "tags": [],
            "needs_background": "light"
          }
        }
      ]
    },
    {
      "cell_type": "markdown",
      "metadata": {
        "id": "3FREbIxyn5X0"
      },
      "source": [
        "**Stacking**"
      ]
    },
    {
      "cell_type": "code",
      "metadata": {
        "colab": {
          "base_uri": "https://localhost:8080/"
        },
        "id": "7JUfo2dXn0y-",
        "outputId": "e77b4d50-0808-4f01-888a-c92ede4ec38e"
      },
      "source": [
        "import xgboost as xg\n",
        "from sklearn.svm import SVR\n",
        "import pandas as pd\n",
        "\n",
        "# training & testing set\n",
        "df_train = pd.read_csv('covid.train.csv').iloc[:,1:]\n",
        "df_test = pd.read_csv('covid.test.csv').iloc[:,1:]\n",
        "  \n",
        "# Instantiation \n",
        "xgb_r = xg.XGBRegressor(objective ='reg:squarederror',gamma=0.5,reg_alpha=1.5,n_estimators = 130, max_depth=4)\n",
        "svm = SVR(kernel=\"linear\", C=1.3)\n",
        "\n",
        "# Fitting the model \n",
        "xgb_r.fit(df_train.iloc[:,:-1], df_train.iloc[:,-1]) \n",
        "svm.fit(df_train.iloc[:,:-1], df_train.iloc[:,-1])"
      ],
      "execution_count": 24,
      "outputs": [
        {
          "output_type": "execute_result",
          "data": {
            "text/plain": [
              "SVR(C=1.3, cache_size=200, coef0=0.0, degree=3, epsilon=0.1, gamma='scale',\n",
              "    kernel='linear', max_iter=-1, shrinking=True, tol=0.001, verbose=False)"
            ]
          },
          "metadata": {
            "tags": []
          },
          "execution_count": 24
        }
      ]
    },
    {
      "cell_type": "markdown",
      "metadata": {
        "id": "xydLgJAgWltD"
      },
      "source": [
        "**Testing**"
      ]
    },
    {
      "cell_type": "code",
      "metadata": {
        "colab": {
          "base_uri": "https://localhost:8080/"
        },
        "id": "Zj0IxMk6WqQk",
        "outputId": "08bd9e14-6681-4507-e277-bb09cd580f36"
      },
      "source": [
        "def save_pred(preds, file):\n",
        "  #Save predictions to specified file\n",
        "  print('Saving results to {}'.format(file))\n",
        "  with open(file, 'w') as fp:\n",
        "    writer = csv.writer(fp)\n",
        "    writer.writerow(['id', 'tested_positive'])\n",
        "    for i, p in enumerate(preds):\n",
        "      writer.writerow([i, p])\n",
        "\n",
        "preds_DNN = test(tt_set, model, device)\n",
        "pred_xgb = xgb_r.predict(df_test) \n",
        "pred_svm = svm.predict(df_test)\n",
        "\n",
        "preds_ensemble = (0.5*preds_DNN + 0.2*pred_xgb + 0.3*pred_svm)\n",
        "\n",
        "save_pred(preds_ensemble, 'pred.csv')"
      ],
      "execution_count": 26,
      "outputs": [
        {
          "output_type": "stream",
          "text": [
            "Saving results to pred.csv\n"
          ],
          "name": "stdout"
        }
      ]
    }
  ]
}