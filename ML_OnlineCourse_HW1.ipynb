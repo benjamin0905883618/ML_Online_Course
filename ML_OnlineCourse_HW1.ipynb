{
  "nbformat": 4,
  "nbformat_minor": 0,
  "metadata": {
    "colab": {
      "name": "ML_OnlineCourse_HW1.ipynb",
      "provenance": [],
      "collapsed_sections": []
    },
    "kernelspec": {
      "name": "python3",
      "display_name": "Python 3"
    },
    "language_info": {
      "name": "python"
    },
    "accelerator": "GPU"
  },
  "cells": [
    {
      "cell_type": "markdown",
      "metadata": {
        "id": "Bn9_JPfxJD21"
      },
      "source": [
        "# Download Data"
      ]
    },
    {
      "cell_type": "code",
      "metadata": {
        "id": "tz7uwHkyeEY-",
        "colab": {
          "base_uri": "https://localhost:8080/"
        },
        "outputId": "503ad414-43bd-4a96-ae05-f0df9bd9083a"
      },
      "source": [
        "tr_path = \"covid.train.csv\"\n",
        "tt_path = \"covid.test.csv\"\n",
        "\n",
        "!gdown --id '19CCyCgJrUxtvgZF53vnctJiOJ23T5mqF' --output covid.train.csv\n",
        "!gdown --id '1CE240jLm2npU-tdz81-oVKEF3T2yfT1O' --output covid.test.csv"
      ],
      "execution_count": null,
      "outputs": [
        {
          "output_type": "stream",
          "text": [
            "Downloading...\n",
            "From: https://drive.google.com/uc?id=19CCyCgJrUxtvgZF53vnctJiOJ23T5mqF\n",
            "To: /content/covid.train.csv\n",
            "100% 2.00M/2.00M [00:00<00:00, 31.7MB/s]\n",
            "Downloading...\n",
            "From: https://drive.google.com/uc?id=1CE240jLm2npU-tdz81-oVKEF3T2yfT1O\n",
            "To: /content/covid.test.csv\n",
            "100% 651k/651k [00:00<00:00, 10.3MB/s]\n"
          ],
          "name": "stdout"
        }
      ]
    },
    {
      "cell_type": "markdown",
      "metadata": {
        "id": "MIgYZ-QTJI0e"
      },
      "source": [
        "# Import Some Package"
      ]
    },
    {
      "cell_type": "code",
      "metadata": {
        "id": "SQzmj8uHJDMV"
      },
      "source": [
        "#Pytorch\n",
        "import torch\n",
        "import torch.nn as nn\n",
        "from torch.utils.data import Dataset, DataLoader\n",
        "\n",
        "#Data Preprocessing\n",
        "import numpy as np\n",
        "import csv\n",
        "import os\n",
        "\n",
        "#For plotting\n",
        "import matplotlib.pyplot as plt\n",
        "from matplotlib.pyplot import figure\n",
        "\n",
        "myseed = 42069\n",
        "torch.backends.cudnn.deterministic = True\n",
        "torch.backends.cudnn.benchmark = False\n",
        "np.random.seed(myseed)\n",
        "torch.manual_seed(myseed)\n",
        "if torch.cuda.is_available():\n",
        "  torch.cuda.manual_seed_all(myseed)"
      ],
      "execution_count": null,
      "outputs": []
    },
    {
      "cell_type": "markdown",
      "metadata": {
        "id": "SJ-lLJIAKFc9"
      },
      "source": [
        "# Some Utilities"
      ]
    },
    {
      "cell_type": "code",
      "metadata": {
        "id": "v6OxNI5ZKFv0"
      },
      "source": [
        "def get_device():\n",
        "    ''' Get device (if GPU is available, use GPU) '''\n",
        "    return 'cuda' if torch.cuda.is_available() else 'cpu'\n",
        "\n",
        "def plot_learning_curve(loss_record, title=''):\n",
        "    ''' Plot learning curve of your DNN (train & dev loss) '''\n",
        "    total_steps = len(loss_record['train'])\n",
        "    x_1 = range(total_steps)\n",
        "    x_2 = x_1[::len(loss_record['train']) // len(loss_record['dev'])]\n",
        "    figure(figsize=(6, 4))\n",
        "    plt.plot(x_1, loss_record['train'], c='tab:red', label='train')\n",
        "    plt.plot(x_2, loss_record['dev'], c='tab:cyan', label='dev')\n",
        "    plt.ylim(0.0, 5.)\n",
        "    plt.xlabel('Training steps')\n",
        "    plt.ylabel('MSE loss')\n",
        "    plt.title('Learning curve of {}'.format(title))\n",
        "    plt.legend()\n",
        "    plt.show()\n",
        "\n",
        "\n",
        "def plot_pred(dv_set, model, device, lim=35., preds=None, targets=None):\n",
        "    ''' Plot prediction of your DNN '''\n",
        "    if preds is None or targets is None:\n",
        "        model.eval()\n",
        "        preds, targets = [], []\n",
        "        for x, y in dv_set:\n",
        "            x, y = x.to(device), y.to(device)\n",
        "            with torch.no_grad():\n",
        "                pred = model(x)\n",
        "                preds.append(pred.detach().cpu())\n",
        "                targets.append(y.detach().cpu())\n",
        "        preds = torch.cat(preds, dim=0).numpy()\n",
        "        targets = torch.cat(targets, dim=0).numpy()\n",
        "\n",
        "    figure(figsize=(5, 5))\n",
        "    plt.scatter(targets, preds, c='r', alpha=0.5)\n",
        "    plt.plot([-0.2, lim], [-0.2, lim], c='b')\n",
        "    plt.xlim(-0.2, lim)\n",
        "    plt.ylim(-0.2, lim)\n",
        "    plt.xlabel('ground truth value')\n",
        "    plt.ylabel('predicted value')\n",
        "    plt.title('Ground Truth v.s. Prediction')\n",
        "    plt.show()"
      ],
      "execution_count": null,
      "outputs": []
    },
    {
      "cell_type": "markdown",
      "metadata": {
        "id": "swpwsaH7RfNx"
      },
      "source": [
        "# Preprocess"
      ]
    },
    {
      "cell_type": "markdown",
      "metadata": {
        "id": "bHZJFTqgKO9k"
      },
      "source": [
        "**Dataset**"
      ]
    },
    {
      "cell_type": "code",
      "metadata": {
        "id": "OwbJ0mrNKhBo"
      },
      "source": [
        "class COVID19Dataset(Dataset):\n",
        "  #Dataset for loading and preprocessing the COVID19 dataset\n",
        "  def __init__(self, path, mode = 'train', target_only = False):\n",
        "    self.mode = mode\n",
        "\n",
        "    #Read data into numpy arrays\n",
        "    with open(path, 'r') as fp:\n",
        "      data = list(csv.reader(fp))\n",
        "      data = np.array(data[1:])[:, 1:].astype(float)\n",
        "    \n",
        "    if not target_only:\n",
        "      feats = list(range(93))\n",
        "    else:\n",
        "      feats = list(range(52))\n",
        "      feats.append(57)\n",
        "      feats = feats + list(range(58,70))\n",
        "      feats.append(75)\n",
        "      feats = feats + list(range(76,88))\n",
        "      \n",
        "    if mode == 'test':\n",
        "      data = data[:, feats]\n",
        "      self.data = torch.FloatTensor(data)\n",
        "    else:\n",
        "      target = data[:, -1]\n",
        "      data = data[:, feats]\n",
        "\n",
        "      if mode == 'train':\n",
        "        indices = [i for i in range(len(data)) if i % 10 != 0]\n",
        "      elif mode == 'dev':\n",
        "        indices = [i for i in range(len(data)) if i % 10 == 0]\n",
        "      \n",
        "      self.data = torch.FloatTensor(data[indices])\n",
        "      self.target = torch.FloatTensor(target[indices])\n",
        "\n",
        "    #Normalize features (you may remove this part to see what will happen)\n",
        "    #Normal distribution\n",
        "    self.data[:, 40:] = \\\n",
        "      (self.data[:, 40:] - self.data[:, 40:].mean(dim = 0, keepdim = True))\\\n",
        "      / self.data[:, 40:].std(dim = 0, keepdim = True) \n",
        "\n",
        "    self.dim = self.data.shape[1]\n",
        "    print('Finished reading the {} set of COVID19 Dataset ({} samples found, each dim = {})'.format(mode, len(self.data), self.dim))\n",
        "  def __getitem__(self, index):\n",
        "    #Returns one sample at a time\n",
        "    if self.mode in ['train', 'dev']:\n",
        "      return self.data[index], self.target[index]\n",
        "    else:\n",
        "      return self.data[index]\n",
        "  def __len__(self):\n",
        "    return len(self.data)\n",
        "\n"
      ],
      "execution_count": null,
      "outputs": []
    },
    {
      "cell_type": "markdown",
      "metadata": {
        "id": "dL8tXyr9POds"
      },
      "source": [
        "**DataLoader**"
      ]
    },
    {
      "cell_type": "code",
      "metadata": {
        "id": "jxhUTOY_PQ8U"
      },
      "source": [
        "def prep_dataloader(path, mode, batch_size, n_jobs = 0, target_only = False):\n",
        "  #Generates a dataset, then is put into a dataloader\n",
        "  dataset = COVID19Dataset(path, mode = mode, target_only = target_only)\n",
        "  dataloader = DataLoader(\n",
        "      dataset,batch_size,shuffle = (mode == 'train'), drop_last = False,\n",
        "      num_workers = n_jobs, pin_memory = True\n",
        "  )\n",
        "  return dataloader"
      ],
      "execution_count": null,
      "outputs": []
    },
    {
      "cell_type": "markdown",
      "metadata": {
        "id": "qyaamh9UQHyV"
      },
      "source": [
        "**Deep Neural Network**"
      ]
    },
    {
      "cell_type": "code",
      "metadata": {
        "id": "zq6akoVZQLdU"
      },
      "source": [
        "class NeuralNet(nn.Module):\n",
        "  #a simple fully-connected deep neural network\n",
        "  def __init__(self, input_dim):\n",
        "    super(NeuralNet, self).__init__()\n",
        "\n",
        "    self.net = nn.Sequential(\n",
        "        nn.Linear(input_dim, 64),\n",
        "        nn.ReLU(),\n",
        "        nn.Linear(64, 1)\n",
        "    )\n",
        "\n",
        "    self.criterion = nn.MSELoss(reduction = 'mean')\n",
        "  def forward(self, x):\n",
        "    return self.net(x).squeeze(1)\n",
        "  def cal_loss(self, pred, target):\n",
        "    L1_norm = 0.001 * sum(p.abs().sum() for p in self.net.parameters())\n",
        "    L2_norm = 0.0001 * sum((p * p).sum() for p in self.net.parameters())\n",
        "    return self.criterion(pred, target) + L1_norm + L2_norm"
      ],
      "execution_count": null,
      "outputs": []
    },
    {
      "cell_type": "markdown",
      "metadata": {
        "id": "OFopWP6hRWUD"
      },
      "source": [
        ""
      ]
    },
    {
      "cell_type": "markdown",
      "metadata": {
        "id": "uy_Jf0v_RxmY"
      },
      "source": [
        "# Train/Dev/Test"
      ]
    },
    {
      "cell_type": "markdown",
      "metadata": {
        "id": "bBufGvx0R1gw"
      },
      "source": [
        "**Training**"
      ]
    },
    {
      "cell_type": "code",
      "metadata": {
        "id": "LtXX8n-TRDyU"
      },
      "source": [
        "def train(tr_set, dv_set, model, config, device):\n",
        "  #DNN training\n",
        "  n_epochs = config['n_epochs']\n",
        "\n",
        "  optimizer = getattr(torch.optim, config['optimizer'])(\n",
        "      model.parameters(), **config['optim_hparas'])\n",
        "  min_mse = 1000\n",
        "  loss_record = {'train': [], 'dev': []}\n",
        "  early_stop_cnt = 0\n",
        "  epoch = 0\n",
        "  while epoch < n_epochs:\n",
        "    model.train()\n",
        "    for x, y in tr_set:\n",
        "      optimizer.zero_grad()\n",
        "      x, y = x.to(device),y.to(device)\n",
        "      pred = model(x)\n",
        "      mse_loss = model.cal_loss(pred, y)\n",
        "      mse_loss.backward()\n",
        "      optimizer.step()\n",
        "      loss_record['train'].append(mse_loss.detach().cpu().item())\n",
        "    dev_mse = dev(dv_set, model, device)\n",
        "    if dev_mse < min_mse:\n",
        "      min_mse = dev_mse\n",
        "      print('Saving model (epochs = {:4d}, loss = {:.4f})'.format(epoch + 1,min_mse))\n",
        "      torch.save(model.state_dict(), config['save_path'])\n",
        "      early_stop_cnt = 0\n",
        "    else:\n",
        "      early_stop_cnt += 1\n",
        "    epoch += 1\n",
        "    loss_record['dev'].append(dev_mse)\n",
        "    if early_stop_cnt > config['early_stop']:\n",
        "      break\n",
        "  print('Finish training after {} epochs'.format(epoch))\n",
        "  return min_mse, loss_record\n"
      ],
      "execution_count": null,
      "outputs": []
    },
    {
      "cell_type": "markdown",
      "metadata": {
        "id": "vh2PZdW6UBwl"
      },
      "source": [
        "**Validation**"
      ]
    },
    {
      "cell_type": "code",
      "metadata": {
        "id": "-pMQwLmEUD0C"
      },
      "source": [
        "def dev(dv_set, model, device):\n",
        "  model.eval()\n",
        "  total_loss = 0\n",
        "  for x, y in dv_set:\n",
        "    x, y = x.to(device), y.to(device)\n",
        "    with torch.no_grad():\n",
        "      pred = model(x)\n",
        "      mse_loss = model.cal_loss(pred, y)\n",
        "    total_loss += mse_loss.detach().cpu().item() * len(x)\n",
        "  total_loss = total_loss / len(dv_set.dataset)\n",
        "  return total_loss"
      ],
      "execution_count": null,
      "outputs": []
    },
    {
      "cell_type": "markdown",
      "metadata": {
        "id": "VbMwYn65UjA9"
      },
      "source": [
        "**Testing**"
      ]
    },
    {
      "cell_type": "code",
      "metadata": {
        "id": "TMO0-RU8Uk7-"
      },
      "source": [
        "def test(tt_set, model, device):\n",
        "  model.eval()\n",
        "  preds = []\n",
        "  for x in tt_set:\n",
        "    x = x.to(device)\n",
        "    with torch.no_grad():\n",
        "      pred = model(x)\n",
        "      preds.append(pred.detach().cpu())\n",
        "  preds = torch.cat(preds, dim = 0).numpy()\n",
        "  return preds"
      ],
      "execution_count": null,
      "outputs": []
    },
    {
      "cell_type": "markdown",
      "metadata": {
        "id": "xfmGewj1U8U_"
      },
      "source": [
        "**Setup Hyper-parameters**"
      ]
    },
    {
      "cell_type": "code",
      "metadata": {
        "id": "QoXwIPcWVAk_"
      },
      "source": [
        "device = get_device()\n",
        "os.makedirs('models', exist_ok = True)\n",
        "target_only = True\n",
        "\n",
        "config = {\n",
        "    'n_epochs': 3000,\n",
        "    'batch_size': 270,\n",
        "    'optimizer': 'Adam',\n",
        "    'optim_hparas': {\n",
        "        'lr': 0.03,\n",
        "        #'momentum': 0.3\n",
        "    },\n",
        "    'early_stop': 500,\n",
        "    'save_path': 'models/model.pth'\n",
        "}"
      ],
      "execution_count": null,
      "outputs": []
    },
    {
      "cell_type": "markdown",
      "metadata": {
        "id": "4tzNGGPNVpAs"
      },
      "source": [
        "**Load data and model**"
      ]
    },
    {
      "cell_type": "code",
      "metadata": {
        "colab": {
          "base_uri": "https://localhost:8080/"
        },
        "id": "Jb11tYO9VrN0",
        "outputId": "2d818f10-08ea-49f9-cfe3-9da5312999e1"
      },
      "source": [
        "tr_set = prep_dataloader(tr_path, 'train', config['batch_size'], target_only=target_only)\n",
        "dv_set = prep_dataloader(tr_path, 'dev', config['batch_size'], target_only=target_only)\n",
        "tt_set = prep_dataloader(tt_path, 'test', config['batch_size'], target_only=target_only)"
      ],
      "execution_count": null,
      "outputs": [
        {
          "output_type": "stream",
          "text": [
            "Finished reading the train set of COVID19 Dataset (2430 samples found, each dim = 78)\n",
            "Finished reading the dev set of COVID19 Dataset (270 samples found, each dim = 78)\n",
            "Finished reading the test set of COVID19 Dataset (893 samples found, each dim = 78)\n"
          ],
          "name": "stdout"
        }
      ]
    },
    {
      "cell_type": "code",
      "metadata": {
        "id": "c9uI145lV3Ed"
      },
      "source": [
        "model = NeuralNet(tr_set.dataset.dim).to(device)"
      ],
      "execution_count": null,
      "outputs": []
    },
    {
      "cell_type": "markdown",
      "metadata": {
        "id": "2t5Ch0_oV-Cf"
      },
      "source": [
        "**Start Training**"
      ]
    },
    {
      "cell_type": "code",
      "metadata": {
        "colab": {
          "base_uri": "https://localhost:8080/"
        },
        "id": "YBgf9f1yWAV2",
        "outputId": "22811480-d2ba-428f-bcea-5d9b0da0e2a7"
      },
      "source": [
        "model_loss, model_loss_record = train(tr_set, dv_set, model, config, device)"
      ],
      "execution_count": null,
      "outputs": [
        {
          "output_type": "stream",
          "text": [
            "Saving model (epochs =    1, loss = 77.3179)\n",
            "Saving model (epochs =    2, loss = 34.5199)\n",
            "Saving model (epochs =    3, loss = 20.5459)\n",
            "Saving model (epochs =    4, loss = 11.1690)\n",
            "Saving model (epochs =    5, loss = 6.8571)\n",
            "Saving model (epochs =    6, loss = 4.8166)\n",
            "Saving model (epochs =    7, loss = 3.8294)\n",
            "Saving model (epochs =    8, loss = 3.2410)\n",
            "Saving model (epochs =    9, loss = 3.0267)\n",
            "Saving model (epochs =   10, loss = 2.8062)\n",
            "Saving model (epochs =   11, loss = 2.5931)\n",
            "Saving model (epochs =   12, loss = 2.4830)\n",
            "Saving model (epochs =   14, loss = 2.3158)\n",
            "Saving model (epochs =   16, loss = 2.1250)\n",
            "Saving model (epochs =   18, loss = 2.0822)\n",
            "Saving model (epochs =   20, loss = 2.0000)\n",
            "Saving model (epochs =   21, loss = 1.9354)\n",
            "Saving model (epochs =   22, loss = 1.9233)\n",
            "Saving model (epochs =   26, loss = 1.8167)\n",
            "Saving model (epochs =   29, loss = 1.7192)\n",
            "Saving model (epochs =   32, loss = 1.6565)\n",
            "Saving model (epochs =   34, loss = 1.6333)\n",
            "Saving model (epochs =   37, loss = 1.5960)\n",
            "Saving model (epochs =   44, loss = 1.5735)\n",
            "Saving model (epochs =   45, loss = 1.5706)\n",
            "Saving model (epochs =   48, loss = 1.5230)\n",
            "Saving model (epochs =   49, loss = 1.4511)\n",
            "Saving model (epochs =   51, loss = 1.3804)\n",
            "Saving model (epochs =   54, loss = 1.3211)\n",
            "Saving model (epochs =   56, loss = 1.3032)\n",
            "Saving model (epochs =   63, loss = 1.2509)\n",
            "Saving model (epochs =   65, loss = 1.2218)\n",
            "Saving model (epochs =   74, loss = 1.2030)\n",
            "Saving model (epochs =   80, loss = 1.1682)\n",
            "Saving model (epochs =   83, loss = 1.1513)\n",
            "Saving model (epochs =   91, loss = 1.1316)\n",
            "Saving model (epochs =   94, loss = 1.1275)\n",
            "Saving model (epochs =  100, loss = 1.1234)\n",
            "Saving model (epochs =  128, loss = 1.1224)\n",
            "Saving model (epochs =  135, loss = 1.1152)\n",
            "Saving model (epochs =  179, loss = 1.1064)\n",
            "Saving model (epochs =  180, loss = 1.1037)\n",
            "Saving model (epochs =  197, loss = 1.0945)\n",
            "Saving model (epochs =  208, loss = 1.0690)\n",
            "Saving model (epochs =  243, loss = 1.0597)\n",
            "Saving model (epochs =  252, loss = 1.0574)\n",
            "Saving model (epochs =  267, loss = 1.0429)\n",
            "Saving model (epochs =  275, loss = 1.0316)\n",
            "Saving model (epochs =  313, loss = 1.0272)\n",
            "Saving model (epochs =  364, loss = 1.0177)\n",
            "Saving model (epochs =  384, loss = 1.0064)\n",
            "Saving model (epochs =  401, loss = 0.9986)\n",
            "Saving model (epochs =  417, loss = 0.9909)\n",
            "Saving model (epochs =  484, loss = 0.9690)\n",
            "Saving model (epochs =  520, loss = 0.9597)\n",
            "Saving model (epochs =  599, loss = 0.9538)\n",
            "Saving model (epochs =  667, loss = 0.9424)\n",
            "Saving model (epochs =  805, loss = 0.9415)\n",
            "Saving model (epochs =  897, loss = 0.9273)\n",
            "Saving model (epochs = 1368, loss = 0.9205)\n",
            "Finish training after 1869 epochs\n"
          ],
          "name": "stdout"
        }
      ]
    },
    {
      "cell_type": "code",
      "metadata": {
        "colab": {
          "base_uri": "https://localhost:8080/",
          "height": 295
        },
        "id": "NOhpfeIYWIxw",
        "outputId": "f9d06695-c4b5-4e42-975a-6ffddf7e125c"
      },
      "source": [
        "plot_learning_curve(model_loss_record, title = 'deep model')"
      ],
      "execution_count": null,
      "outputs": [
        {
          "output_type": "display_data",
          "data": {
            "image/png": "[encoded data removed]",
            "text/plain": [
              "<Figure size 432x288 with 1 Axes>"
            ]
          },
          "metadata": {
            "tags": [],
            "needs_background": "light"
          }
        }
      ]
    },
    {
      "cell_type": "code",
      "metadata": {
        "colab": {
          "base_uri": "https://localhost:8080/",
          "height": 350
        },
        "id": "XVw4gsCVWOa8",
        "outputId": "4c862dbd-2fbf-48cc-9731-c53b40a4480d"
      },
      "source": [
        "del model\n",
        "model = NeuralNet(tr_set.dataset.dim).to(device)\n",
        "ckpt = torch.load(config['save_path'], map_location = 'cpu')\n",
        "model.load_state_dict(ckpt)\n",
        "plot_pred(dv_set, model, device)"
      ],
      "execution_count": null,
      "outputs": [
        {
          "output_type": "display_data",
          "data": {
            "image/png": "[encoded data removed]",
            "text/plain": [
              "<Figure size 360x360 with 1 Axes>"
            ]
          },
          "metadata": {
            "tags": [],
            "needs_background": "light"
          }
        }
      ]
    },
    {
      "cell_type": "markdown",
      "metadata": {
        "id": "xydLgJAgWltD"
      },
      "source": [
        "**Testing**"
      ]
    },
    {
      "cell_type": "code",
      "metadata": {
        "colab": {
          "base_uri": "https://localhost:8080/"
        },
        "id": "Zj0IxMk6WqQk",
        "outputId": "32a1210f-2089-4b3a-cb6d-9f30d7df69cd"
      },
      "source": [
        "def save_pred(preds, file):\n",
        "  #Save predictions to specified file\n",
        "  print('Saving results to {}'.format(file))\n",
        "  with open(file, 'w') as fp:\n",
        "    writer = csv.writer(fp)\n",
        "    writer.writerow(['id', 'tested_positive'])\n",
        "    for i, p in enumerate(preds):\n",
        "      writer.writerow([i, p])\n",
        "preds = test(tt_set, model, device)\n",
        "save_pred(preds, 'pred.csv')"
      ],
      "execution_count": null,
      "outputs": [
        {
          "output_type": "stream",
          "text": [
            "Saving results to pred.csv\n"
          ],
          "name": "stdout"
        }
      ]
    }
  ]
}