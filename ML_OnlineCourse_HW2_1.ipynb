{
  "nbformat": 4,
  "nbformat_minor": 0,
  "metadata": {
    "colab": {
      "name": "ML_OnlineCourse_HW2-1.ipynb",
      "provenance": [],
      "collapsed_sections": []
    },
    "kernelspec": {
      "name": "python3",
      "display_name": "Python 3"
    },
    "language_info": {
      "name": "python"
    },
    "accelerator": "GPU"
  },
  "cells": [
    {
      "cell_type": "markdown",
      "metadata": {
        "id": "BcsxH9oq1tkX"
      },
      "source": [
        "**Download Data**"
      ]
    },
    {
      "cell_type": "code",
      "metadata": {
        "colab": {
          "base_uri": "https://localhost:8080/"
        },
        "id": "wuAJhxGkCtya",
        "outputId": "1f87b871-df54-4930-bcbc-77ca4ae83c7a"
      },
      "source": [
        "!gdown --id '1HPkcmQmFGu-3OknddKIa5dNDsR05lIQR' --output data.zip\n",
        "!unzip data.zip\n",
        "!ls "
      ],
      "execution_count": null,
      "outputs": [
        {
          "output_type": "stream",
          "text": [
            "Downloading...\n",
            "From: https://drive.google.com/uc?id=1HPkcmQmFGu-3OknddKIa5dNDsR05lIQR\n",
            "To: /content/data.zip\n",
            "372MB [00:01, 221MB/s]\n",
            "Archive:  data.zip\n",
            "   creating: timit_11/\n",
            "  inflating: timit_11/train_11.npy   \n",
            "  inflating: timit_11/test_11.npy    \n",
            "  inflating: timit_11/train_label_11.npy  \n",
            "data.zip  sample_data  timit_11\n"
          ],
          "name": "stdout"
        }
      ]
    },
    {
      "cell_type": "markdown",
      "metadata": {
        "id": "Ek2fRezl1xOR"
      },
      "source": [
        "**Preparing Data**"
      ]
    },
    {
      "cell_type": "code",
      "metadata": {
        "colab": {
          "base_uri": "https://localhost:8080/"
        },
        "id": "u2PQzYe610Q0",
        "outputId": "4ad09ccf-9283-4940-f471-a563a9d4d6dc"
      },
      "source": [
        "import numpy as np\n",
        "\n",
        "print('Loading data ...')\n",
        "\n",
        "data_root='./timit_11/'\n",
        "train = np.load(data_root + 'train_11.npy')\n",
        "train_label = np.load(data_root + 'train_label_11.npy')\n",
        "test = np.load(data_root + 'test_11.npy')\n",
        "\n",
        "print('Size of training data: {}'.format(train.shape))\n",
        "print('Size of testing data: {}'.format(test.shape))"
      ],
      "execution_count": null,
      "outputs": [
        {
          "output_type": "stream",
          "text": [
            "Loading data ...\n",
            "Size of training data: (1229932, 429)\n",
            "Size of testing data: (451552, 429)\n"
          ],
          "name": "stdout"
        }
      ]
    },
    {
      "cell_type": "markdown",
      "metadata": {
        "id": "Bw8pWbC22eRE"
      },
      "source": [
        "**Create Dataset**"
      ]
    },
    {
      "cell_type": "code",
      "metadata": {
        "id": "Rqx1mBxA2g4W"
      },
      "source": [
        "import torch\n",
        "from torch.utils.data import Dataset\n",
        "\n",
        "class TIMITDataset(Dataset):\n",
        "  def __init__(self, X, y = None):\n",
        "    self.data = torch.from_numpy(X).float()\n",
        "    if y is not None:\n",
        "      y = y.astype(np.int)\n",
        "      self.label = torch.LongTensor(y)\n",
        "    else:\n",
        "      self.label = None\n",
        "    \n",
        "  def __getitem__(self, idx):\n",
        "    if self.label is not None:\n",
        "      return self.data[idx], self.label[idx]\n",
        "    else:\n",
        "      return self.data[idx]\n",
        "\n",
        "  def __len__(self):\n",
        "    return len(self.data)\n"
      ],
      "execution_count": null,
      "outputs": []
    },
    {
      "cell_type": "code",
      "metadata": {
        "colab": {
          "base_uri": "https://localhost:8080/"
        },
        "id": "i5W75f2T3Z6f",
        "outputId": "d1b6df2d-e909-4ef4-f033-621e03f597c3"
      },
      "source": [
        "VAL_RATIO = 0.2\n",
        "\n",
        "percent = int(train.shape[0] * (1 - VAL_RATIO))\n",
        "train_x, train_y, val_x, val_y = train[:percent], train_label[:percent], train[percent:], train_label[percent:]\n",
        "print('Size of training set: {}'.format(train_x.shape))\n",
        "print('Size of validation set: {}'.format(val_x.shape))"
      ],
      "execution_count": null,
      "outputs": [
        {
          "output_type": "stream",
          "text": [
            "Size of training set: (983945, 429)\n",
            "Size of validation set: (245987, 429)\n"
          ],
          "name": "stdout"
        }
      ]
    },
    {
      "cell_type": "code",
      "metadata": {
        "id": "F_naIpGZ4DLV"
      },
      "source": [
        "BATCH_SIZE = 64\n",
        "\n",
        "from torch.utils.data import DataLoader\n",
        "\n",
        "train_set = TIMITDataset(train_x,train_y)\n",
        "val_set = TIMITDataset(val_x,val_y)\n",
        "train_loader = DataLoader(train_set, batch_size = BATCH_SIZE, shuffle = True)\n",
        "val_loader = DataLoader(val_set, batch_size = BATCH_SIZE, shuffle = False)"
      ],
      "execution_count": null,
      "outputs": []
    },
    {
      "cell_type": "code",
      "metadata": {
        "id": "US6CyghTI95E",
        "colab": {
          "base_uri": "https://localhost:8080/"
        },
        "outputId": "566687a2-3533-451e-a73d-04d4d377da36"
      },
      "source": [
        "import gc\n",
        "\n",
        "del train, train_label, train_x, train_y, val_x, val_y\n",
        "gc.collect()"
      ],
      "execution_count": null,
      "outputs": [
        {
          "output_type": "execute_result",
          "data": {
            "text/plain": [
              "153"
            ]
          },
          "metadata": {
            "tags": []
          },
          "execution_count": 6
        }
      ]
    },
    {
      "cell_type": "markdown",
      "metadata": {
        "id": "5y71yq6yRIbf"
      },
      "source": [
        "**Create Model**"
      ]
    },
    {
      "cell_type": "code",
      "metadata": {
        "id": "IE1S32jbRMBV"
      },
      "source": [
        "import torch\n",
        "import torch.nn as nn\n",
        "\n",
        "class Classifier(nn.Module):\n",
        "  def __init__(self):\n",
        "    super(Classifier, self).__init__()\n",
        "    self.layer1 = nn.Linear(429, 1024)\n",
        "    self.layer2 = nn.Linear(1024, 512)\n",
        "    self.layer3 = nn.Linear(512, 128)\n",
        "    self.out = nn.Linear(128, 39)\n",
        "\n",
        "    self.act_fn = nn.Sigmoid()\n",
        "  def forward(self, x):\n",
        "    x = self.layer1(x)\n",
        "    x = self.act_fn(x)\n",
        "\n",
        "    x = self.layer2(x)\n",
        "    x = self.act_fn(x)\n",
        "\n",
        "    x = self.layer3(x)\n",
        "    x = self.act_fn(x)\n",
        "\n",
        "    x = self.out(x)\n",
        "        \n",
        "    return x"
      ],
      "execution_count": null,
      "outputs": []
    },
    {
      "cell_type": "markdown",
      "metadata": {
        "id": "6wRz8L2iSMoz"
      },
      "source": [
        "**Training**"
      ]
    },
    {
      "cell_type": "code",
      "metadata": {
        "id": "kXyRDGHVSP_6"
      },
      "source": [
        "#check device\n",
        "def get_device():\n",
        "  return 'cuda' if torch.cuda.is_available() else 'cpu'"
      ],
      "execution_count": null,
      "outputs": []
    },
    {
      "cell_type": "markdown",
      "metadata": {
        "id": "Op14mnklSaej"
      },
      "source": [
        "**Fix random seeds for reproducibility**"
      ]
    },
    {
      "cell_type": "code",
      "metadata": {
        "id": "-Cuaif8USfZ9"
      },
      "source": [
        "#fix random seed\n",
        "def same_seeds(seed):\n",
        "  torch.manual_seed(seed)\n",
        "  if torch.cuda.is_available():\n",
        "    torch.cuda.manual_seed(seed)\n",
        "    torch.cuda.manual_seed_all(seed)\n",
        "  np.random.seed(seed)\n",
        "  torch.backends.cudnn.benchmark = False\n",
        "  torch.backends.cudnn.deterministic = True"
      ],
      "execution_count": null,
      "outputs": []
    },
    {
      "cell_type": "markdown",
      "metadata": {
        "id": "GDk87jqkS9fq"
      },
      "source": [
        "**Feel free to change the training parameters here**"
      ]
    },
    {
      "cell_type": "code",
      "metadata": {
        "colab": {
          "base_uri": "https://localhost:8080/"
        },
        "id": "df3TbsfATDM4",
        "outputId": "93556ce8-cf21-4ed8-8ec4-b6d47c3dd7a1"
      },
      "source": [
        "#fix random seed for reproducibility\n",
        "same_seeds(0)\n",
        "\n",
        "#get device\n",
        "device = get_device()\n",
        "print(f'Device: {device}')\n",
        "\n",
        "#training parameters\n",
        "num_epoch = 20\n",
        "learning_rate = 0.0001\n",
        "\n",
        "#the path where checkpoint saved\n",
        "model_path = './model.ckpt'\n",
        "\n",
        "#create model, define a loss function, and optimizer\n",
        "model = Classifier().to(device)\n",
        "criterion = nn.CrossEntropyLoss()\n",
        "optimizer = torch.optim.Adam(model.parameters(), lr = learning_rate)"
      ],
      "execution_count": null,
      "outputs": [
        {
          "output_type": "stream",
          "text": [
            "Device: cuda\n"
          ],
          "name": "stdout"
        }
      ]
    },
    {
      "cell_type": "code",
      "metadata": {
        "id": "OlbUX7BYTshe",
        "colab": {
          "base_uri": "https://localhost:8080/"
        },
        "outputId": "d1633144-0d95-42a8-e7d1-71c92865d5c2"
      },
      "source": [
        "#start training\n",
        "\n",
        "best_acc = 0.0\n",
        "for epoch in range(num_epoch):\n",
        "  train_acc = 0.0\n",
        "  train_loss = 0.0\n",
        "  val_acc = 0.0\n",
        "  val_loss = 0.0\n",
        "\n",
        "  #training\n",
        "  model.train()\n",
        "  for i, data in enumerate(train_loader):\n",
        "    inputs, labels = data\n",
        "    inputs, labels = inputs.to(device), labels.to(device)\n",
        "    optimizer.zero_grad()\n",
        "    outputs = model(inputs)\n",
        "    batch_loss = criterion(outputs, labels)\n",
        "    _, train_pred = torch.max(outputs, 1)\n",
        "    batch_loss.backward()\n",
        "    optimizer.step()\n",
        "\n",
        "    train_acc += (train_pred.cpu() == labels.cpu()).sum().item()\n",
        "    train_loss += batch_loss.item()\n",
        "  if len(val_set) > 0:\n",
        "    model.eval()\n",
        "    with torch.no_grad():\n",
        "      for i, data in enumerate(val_loader):\n",
        "        inputs, labels = data\n",
        "        inputs, labels = inputs.to(device), labels.to(device)\n",
        "        outputs = model(inputs)\n",
        "        batch_loss = criterion(outputs, labels)\n",
        "        _, val_pred = torch.max(outputs, 1)\n",
        "        \n",
        "        val_acc += (val_pred.cpu() == labels.cpu()).sum().item()\n",
        "        val_loss += batch_loss.item()\n",
        "      print('[{:03d}/{:03d}] Train Acc: {:3.6f} Loss: {:3.6f} | Val Acc: {:3.6f} loss: {:3.6f}'.format(\n",
        "                epoch + 1, num_epoch, train_acc/len(train_set), train_loss/len(train_loader), val_acc/len(val_set), val_loss/len(val_loader)\n",
        "            ))\n",
        "      \n",
        "      #if model improves, save a checkpoint at this epoch\n",
        "      if val_acc > best_acc:\n",
        "        best_acc = val_acc\n",
        "        torch.save(model.state_dict(), model_path)\n",
        "        print('saving model with acc {:.3f}'.format(best_acc/len(val_set)))\n",
        "  else:\n",
        "    print('[{:03d}/{:03d}] Train Acc: {:3.6f} Loss: {:3.6f}'.format(\n",
        "            epoch + 1, num_epoch, train_acc/len(train_set), train_loss/len(train_loader)\n",
        "        ))\n",
        "if len(val_set) == 0:\n",
        "  torch.save(model.state_dict(), model_path)\n",
        "  print('saving model at last epoch')"
      ],
      "execution_count": null,
      "outputs": [
        {
          "output_type": "stream",
          "text": [
            "[001/020] Train Acc: 0.467302 Loss: 1.811661 | Val Acc: 0.567428 loss: 1.433065\n",
            "saving model with acc 0.567\n",
            "[002/020] Train Acc: 0.594383 Loss: 1.330666 | Val Acc: 0.628639 loss: 1.211098\n",
            "saving model with acc 0.629\n",
            "[003/020] Train Acc: 0.644506 Loss: 1.154064 | Val Acc: 0.660421 loss: 1.101216\n",
            "saving model with acc 0.660\n",
            "[004/020] Train Acc: 0.672217 Loss: 1.052246 | Val Acc: 0.676300 loss: 1.038718\n",
            "saving model with acc 0.676\n",
            "[005/020] Train Acc: 0.691347 Loss: 0.983104 | Val Acc: 0.685154 loss: 1.001852\n",
            "saving model with acc 0.685\n",
            "[006/020] Train Acc: 0.705615 Loss: 0.931955 | Val Acc: 0.689301 loss: 0.984177\n",
            "saving model with acc 0.689\n",
            "[007/020] Train Acc: 0.716344 Loss: 0.891687 | Val Acc: 0.694516 loss: 0.964627\n",
            "saving model with acc 0.695\n",
            "[008/020] Train Acc: 0.725881 Loss: 0.857907 | Val Acc: 0.697720 loss: 0.951889\n",
            "saving model with acc 0.698\n",
            "[009/020] Train Acc: 0.733718 Loss: 0.829495 | Val Acc: 0.696691 loss: 0.949866\n",
            "[010/020] Train Acc: 0.741152 Loss: 0.803701 | Val Acc: 0.699374 loss: 0.944832\n",
            "saving model with acc 0.699\n",
            "[011/020] Train Acc: 0.748049 Loss: 0.781106 | Val Acc: 0.697773 loss: 0.946494\n",
            "[012/020] Train Acc: 0.753793 Loss: 0.760380 | Val Acc: 0.702830 loss: 0.938236\n",
            "saving model with acc 0.703\n",
            "[013/020] Train Acc: 0.759404 Loss: 0.741234 | Val Acc: 0.700456 loss: 0.945627\n",
            "[014/020] Train Acc: 0.764573 Loss: 0.723574 | Val Acc: 0.702159 loss: 0.942118\n",
            "[015/020] Train Acc: 0.769471 Loss: 0.707325 | Val Acc: 0.704427 loss: 0.936154\n",
            "saving model with acc 0.704\n",
            "[016/020] Train Acc: 0.773687 Loss: 0.691314 | Val Acc: 0.701736 loss: 0.945713\n",
            "[017/020] Train Acc: 0.778676 Loss: 0.676633 | Val Acc: 0.701586 loss: 0.953081\n",
            "[018/020] Train Acc: 0.783105 Loss: 0.662425 | Val Acc: 0.699663 loss: 0.963290\n",
            "[019/020] Train Acc: 0.786396 Loss: 0.649180 | Val Acc: 0.700086 loss: 0.957681\n",
            "[020/020] Train Acc: 0.790643 Loss: 0.636623 | Val Acc: 0.699736 loss: 0.964269\n"
          ],
          "name": "stdout"
        }
      ]
    },
    {
      "cell_type": "markdown",
      "metadata": {
        "id": "ivwK5DdBV8aW"
      },
      "source": [
        "**Testing**"
      ]
    },
    {
      "cell_type": "code",
      "metadata": {
        "id": "BUY0SOAgV-ZX",
        "colab": {
          "base_uri": "https://localhost:8080/"
        },
        "outputId": "629e4f04-2075-4745-f587-435b6ad97312"
      },
      "source": [
        "#create testing dataset\n",
        "test_set = TIMITDataset(test, None)\n",
        "test_loader = DataLoader(test_set, batch_size = BATCH_SIZE, shuffle = False)\n",
        "\n",
        "#create model and load weights from checkpoints\n",
        "model = Classifier().to(device)\n",
        "model.load_state_dict(torch.load(model_path))"
      ],
      "execution_count": null,
      "outputs": [
        {
          "output_type": "execute_result",
          "data": {
            "text/plain": [
              "<All keys matched successfully>"
            ]
          },
          "metadata": {
            "tags": []
          },
          "execution_count": 15
        }
      ]
    },
    {
      "cell_type": "markdown",
      "metadata": {
        "id": "xjEsNZ-VWakC"
      },
      "source": [
        "**Make prediction**"
      ]
    },
    {
      "cell_type": "code",
      "metadata": {
        "id": "CTYAdxzIWdAe"
      },
      "source": [
        "predict = []\n",
        "model.eval()\n",
        "with torch.no_grad():\n",
        "  for i, data in enumerate(test_loader):\n",
        "    inputs = data\n",
        "    inputs = inputs.to(device)\n",
        "    outputs = model(inputs)\n",
        "    _, test_pred = torch.max(outputs, 1)\n",
        "\n",
        "    for y in test_pred.cpu().numpy():\n",
        "      predict.append(y)"
      ],
      "execution_count": null,
      "outputs": []
    },
    {
      "cell_type": "markdown",
      "metadata": {
        "id": "y_CTonmJWzEq"
      },
      "source": [
        "**Write prediction to a CSV file**"
      ]
    },
    {
      "cell_type": "code",
      "metadata": {
        "id": "FOckDdrZW2Ho"
      },
      "source": [
        "with open('prediction.csv', 'w') as f:\n",
        "  f.write('Id,Class\\n')\n",
        "  for i, y in enumerate(predict):\n",
        "    f.write('{},{}\\n'.format(i, y))"
      ],
      "execution_count": null,
      "outputs": []
    }
  ]
}